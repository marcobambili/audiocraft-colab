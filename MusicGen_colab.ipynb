%cd /content
!git clone -b v1.0 https://github.com/marcobambili/audiocraft
%cd /content/audiocraft
!pip install -r requirements.txt
!python app.py --share
